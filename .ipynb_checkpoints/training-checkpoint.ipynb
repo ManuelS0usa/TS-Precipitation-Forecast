{
 "cells": [
  {
   "cell_type": "code",
   "execution_count": 129,
   "id": "5aeb43bb",
   "metadata": {},
   "outputs": [],
   "source": [
    "import numpy as np\n",
    "import matplotlib.pyplot as plt\n",
    "import numpy as np\n",
    "import statsmodels.api as sm\n",
    "\n",
    "from data_load import Data_Reader"
   ]
  },
  {
   "cell_type": "code",
   "execution_count": 130,
   "id": "2394eacb",
   "metadata": {},
   "outputs": [],
   "source": [
    "file_path = \"./dataset/Livro1.xlsx\"\n",
    "load_data = Data_Reader(file_path)"
   ]
  },
  {
   "cell_type": "code",
   "execution_count": 131,
   "id": "73d20c00",
   "metadata": {},
   "outputs": [],
   "source": [
    "df = load_data.get_df()"
   ]
  },
  {
   "cell_type": "code",
   "execution_count": 132,
   "id": "d41da6e7",
   "metadata": {},
   "outputs": [
    {
     "data": {
      "text/html": [
       "<div>\n",
       "<style scoped>\n",
       "    .dataframe tbody tr th:only-of-type {\n",
       "        vertical-align: middle;\n",
       "    }\n",
       "\n",
       "    .dataframe tbody tr th {\n",
       "        vertical-align: top;\n",
       "    }\n",
       "\n",
       "    .dataframe thead th {\n",
       "        text-align: right;\n",
       "    }\n",
       "</style>\n",
       "<table border=\"1\" class=\"dataframe\">\n",
       "  <thead>\n",
       "    <tr style=\"text-align: right;\">\n",
       "      <th></th>\n",
       "      <th>ano</th>\n",
       "      <th>janeiro</th>\n",
       "      <th>fevereiro</th>\n",
       "      <th>março</th>\n",
       "      <th>abril</th>\n",
       "      <th>maio</th>\n",
       "      <th>junho</th>\n",
       "      <th>julho</th>\n",
       "      <th>agosto</th>\n",
       "      <th>setembro</th>\n",
       "      <th>outubro</th>\n",
       "      <th>novembro</th>\n",
       "      <th>dezembro</th>\n",
       "    </tr>\n",
       "  </thead>\n",
       "  <tbody>\n",
       "    <tr>\n",
       "      <th>0</th>\n",
       "      <td>2001</td>\n",
       "      <td>135.9</td>\n",
       "      <td>68.7</td>\n",
       "      <td>138.8</td>\n",
       "      <td>3.6</td>\n",
       "      <td>9.8</td>\n",
       "      <td>0.4</td>\n",
       "      <td>0</td>\n",
       "      <td>0.2</td>\n",
       "      <td>71</td>\n",
       "      <td>69.8</td>\n",
       "      <td>56.6</td>\n",
       "      <td>217.4</td>\n",
       "    </tr>\n",
       "    <tr>\n",
       "      <th>1</th>\n",
       "      <td>2002</td>\n",
       "      <td>49.8</td>\n",
       "      <td>12.0</td>\n",
       "      <td>67.6</td>\n",
       "      <td>54.0</td>\n",
       "      <td>28.8</td>\n",
       "      <td>0.6</td>\n",
       "      <td>0</td>\n",
       "      <td>0.0</td>\n",
       "      <td>87</td>\n",
       "      <td>113.0</td>\n",
       "      <td>119.2</td>\n",
       "      <td>85.6</td>\n",
       "    </tr>\n",
       "    <tr>\n",
       "      <th>2</th>\n",
       "      <td>2003</td>\n",
       "      <td>51.0</td>\n",
       "      <td>79.4</td>\n",
       "      <td>63.0</td>\n",
       "      <td>79.2</td>\n",
       "      <td>8.0</td>\n",
       "      <td>0.0</td>\n",
       "      <td>0</td>\n",
       "      <td>0.6</td>\n",
       "      <td>1</td>\n",
       "      <td>165.4</td>\n",
       "      <td>104.8</td>\n",
       "      <td>71.2</td>\n",
       "    </tr>\n",
       "  </tbody>\n",
       "</table>\n",
       "</div>"
      ],
      "text/plain": [
       "    ano  janeiro  fevereiro  março  abril  maio  junho  julho  agosto  \\\n",
       "0  2001    135.9       68.7  138.8    3.6   9.8    0.4      0     0.2   \n",
       "1  2002     49.8       12.0   67.6   54.0  28.8    0.6      0     0.0   \n",
       "2  2003     51.0       79.4   63.0   79.2   8.0    0.0      0     0.6   \n",
       "\n",
       "   setembro  outubro  novembro  dezembro  \n",
       "0        71     69.8      56.6     217.4  \n",
       "1        87    113.0     119.2      85.6  \n",
       "2         1    165.4     104.8      71.2  "
      ]
     },
     "execution_count": 132,
     "metadata": {},
     "output_type": "execute_result"
    }
   ],
   "source": [
    "df.head()"
   ]
  },
  {
   "cell_type": "markdown",
   "id": "6233b777",
   "metadata": {},
   "source": [
    "## MODELS TRAINING"
   ]
  },
  {
   "cell_type": "code",
   "execution_count": 133,
   "id": "02791a96",
   "metadata": {},
   "outputs": [],
   "source": [
    "mydata = load_data.transform()"
   ]
  },
  {
   "cell_type": "code",
   "execution_count": 134,
   "id": "077ec600",
   "metadata": {
    "scrolled": false
   },
   "outputs": [
    {
     "data": {
      "text/html": [
       "<div>\n",
       "<style scoped>\n",
       "    .dataframe tbody tr th:only-of-type {\n",
       "        vertical-align: middle;\n",
       "    }\n",
       "\n",
       "    .dataframe tbody tr th {\n",
       "        vertical-align: top;\n",
       "    }\n",
       "\n",
       "    .dataframe thead th {\n",
       "        text-align: right;\n",
       "    }\n",
       "</style>\n",
       "<table border=\"1\" class=\"dataframe\">\n",
       "  <thead>\n",
       "    <tr style=\"text-align: right;\">\n",
       "      <th></th>\n",
       "      <th>precipitacao</th>\n",
       "    </tr>\n",
       "    <tr>\n",
       "      <th>mes</th>\n",
       "      <th></th>\n",
       "    </tr>\n",
       "  </thead>\n",
       "  <tbody>\n",
       "    <tr>\n",
       "      <th>01-2001</th>\n",
       "      <td>135.9</td>\n",
       "    </tr>\n",
       "    <tr>\n",
       "      <th>02-2001</th>\n",
       "      <td>68.7</td>\n",
       "    </tr>\n",
       "    <tr>\n",
       "      <th>03-2001</th>\n",
       "      <td>138.8</td>\n",
       "    </tr>\n",
       "    <tr>\n",
       "      <th>04-2001</th>\n",
       "      <td>3.6</td>\n",
       "    </tr>\n",
       "    <tr>\n",
       "      <th>05-2001</th>\n",
       "      <td>9.8</td>\n",
       "    </tr>\n",
       "    <tr>\n",
       "      <th>06-2001</th>\n",
       "      <td>0.4</td>\n",
       "    </tr>\n",
       "    <tr>\n",
       "      <th>07-2001</th>\n",
       "      <td>0.0</td>\n",
       "    </tr>\n",
       "    <tr>\n",
       "      <th>08-2001</th>\n",
       "      <td>0.2</td>\n",
       "    </tr>\n",
       "    <tr>\n",
       "      <th>09-2001</th>\n",
       "      <td>71.0</td>\n",
       "    </tr>\n",
       "    <tr>\n",
       "      <th>10-2001</th>\n",
       "      <td>69.8</td>\n",
       "    </tr>\n",
       "    <tr>\n",
       "      <th>11-2001</th>\n",
       "      <td>56.6</td>\n",
       "    </tr>\n",
       "    <tr>\n",
       "      <th>12-2001</th>\n",
       "      <td>217.4</td>\n",
       "    </tr>\n",
       "    <tr>\n",
       "      <th>01-2002</th>\n",
       "      <td>49.8</td>\n",
       "    </tr>\n",
       "    <tr>\n",
       "      <th>02-2002</th>\n",
       "      <td>12.0</td>\n",
       "    </tr>\n",
       "    <tr>\n",
       "      <th>03-2002</th>\n",
       "      <td>67.6</td>\n",
       "    </tr>\n",
       "    <tr>\n",
       "      <th>04-2002</th>\n",
       "      <td>54.0</td>\n",
       "    </tr>\n",
       "    <tr>\n",
       "      <th>05-2002</th>\n",
       "      <td>28.8</td>\n",
       "    </tr>\n",
       "    <tr>\n",
       "      <th>06-2002</th>\n",
       "      <td>0.6</td>\n",
       "    </tr>\n",
       "    <tr>\n",
       "      <th>07-2002</th>\n",
       "      <td>0.0</td>\n",
       "    </tr>\n",
       "    <tr>\n",
       "      <th>08-2002</th>\n",
       "      <td>0.0</td>\n",
       "    </tr>\n",
       "    <tr>\n",
       "      <th>09-2002</th>\n",
       "      <td>87.0</td>\n",
       "    </tr>\n",
       "    <tr>\n",
       "      <th>10-2002</th>\n",
       "      <td>113.0</td>\n",
       "    </tr>\n",
       "    <tr>\n",
       "      <th>11-2002</th>\n",
       "      <td>119.2</td>\n",
       "    </tr>\n",
       "    <tr>\n",
       "      <th>12-2002</th>\n",
       "      <td>85.6</td>\n",
       "    </tr>\n",
       "    <tr>\n",
       "      <th>01-2003</th>\n",
       "      <td>51.0</td>\n",
       "    </tr>\n",
       "    <tr>\n",
       "      <th>02-2003</th>\n",
       "      <td>79.4</td>\n",
       "    </tr>\n",
       "    <tr>\n",
       "      <th>03-2003</th>\n",
       "      <td>63.0</td>\n",
       "    </tr>\n",
       "    <tr>\n",
       "      <th>04-2003</th>\n",
       "      <td>79.2</td>\n",
       "    </tr>\n",
       "    <tr>\n",
       "      <th>05-2003</th>\n",
       "      <td>8.0</td>\n",
       "    </tr>\n",
       "    <tr>\n",
       "      <th>06-2003</th>\n",
       "      <td>0.0</td>\n",
       "    </tr>\n",
       "    <tr>\n",
       "      <th>07-2003</th>\n",
       "      <td>0.0</td>\n",
       "    </tr>\n",
       "    <tr>\n",
       "      <th>08-2003</th>\n",
       "      <td>0.6</td>\n",
       "    </tr>\n",
       "    <tr>\n",
       "      <th>09-2003</th>\n",
       "      <td>1.0</td>\n",
       "    </tr>\n",
       "    <tr>\n",
       "      <th>10-2003</th>\n",
       "      <td>165.4</td>\n",
       "    </tr>\n",
       "    <tr>\n",
       "      <th>11-2003</th>\n",
       "      <td>104.8</td>\n",
       "    </tr>\n",
       "    <tr>\n",
       "      <th>12-2003</th>\n",
       "      <td>71.2</td>\n",
       "    </tr>\n",
       "  </tbody>\n",
       "</table>\n",
       "</div>"
      ],
      "text/plain": [
       "         precipitacao\n",
       "mes                  \n",
       "01-2001         135.9\n",
       "02-2001          68.7\n",
       "03-2001         138.8\n",
       "04-2001           3.6\n",
       "05-2001           9.8\n",
       "06-2001           0.4\n",
       "07-2001           0.0\n",
       "08-2001           0.2\n",
       "09-2001          71.0\n",
       "10-2001          69.8\n",
       "11-2001          56.6\n",
       "12-2001         217.4\n",
       "01-2002          49.8\n",
       "02-2002          12.0\n",
       "03-2002          67.6\n",
       "04-2002          54.0\n",
       "05-2002          28.8\n",
       "06-2002           0.6\n",
       "07-2002           0.0\n",
       "08-2002           0.0\n",
       "09-2002          87.0\n",
       "10-2002         113.0\n",
       "11-2002         119.2\n",
       "12-2002          85.6\n",
       "01-2003          51.0\n",
       "02-2003          79.4\n",
       "03-2003          63.0\n",
       "04-2003          79.2\n",
       "05-2003           8.0\n",
       "06-2003           0.0\n",
       "07-2003           0.0\n",
       "08-2003           0.6\n",
       "09-2003           1.0\n",
       "10-2003         165.4\n",
       "11-2003         104.8\n",
       "12-2003          71.2"
      ]
     },
     "execution_count": 134,
     "metadata": {},
     "output_type": "execute_result"
    }
   ],
   "source": [
    "mydata"
   ]
  },
  {
   "cell_type": "code",
   "execution_count": 135,
   "id": "6c001255",
   "metadata": {},
   "outputs": [
    {
     "data": {
      "text/plain": [
       "<AxesSubplot:title={'center':'Precipitação'}, xlabel='mes'>"
      ]
     },
     "execution_count": 135,
     "metadata": {},
     "output_type": "execute_result"
    },
    {
     "data": {
      "image/png": "[encoded data removed]",
      "text/plain": [
       "<Figure size 1080x576 with 1 Axes>"
      ]
     },
     "metadata": {
      "needs_background": "light"
     },
     "output_type": "display_data"
    }
   ],
   "source": [
    "mydata.plot.line(figsize=(15,8), title='Precipitação')"
   ]
  },
  {
   "cell_type": "code",
   "execution_count": 136,
   "id": "ba616f5e",
   "metadata": {},
   "outputs": [],
   "source": [
    "# Split data into training and testing samples\n",
    "data_split = load_data.test_training_split(mydata, months_number=24)\n",
    "train = data_split['train']\n",
    "test = data_split['test']"
   ]
  },
  {
   "cell_type": "code",
   "execution_count": 137,
   "id": "6f4f4d2e",
   "metadata": {},
   "outputs": [
    {
     "data": {
      "text/html": [
       "<div>\n",
       "<style scoped>\n",
       "    .dataframe tbody tr th:only-of-type {\n",
       "        vertical-align: middle;\n",
       "    }\n",
       "\n",
       "    .dataframe tbody tr th {\n",
       "        vertical-align: top;\n",
       "    }\n",
       "\n",
       "    .dataframe thead th {\n",
       "        text-align: right;\n",
       "    }\n",
       "</style>\n",
       "<table border=\"1\" class=\"dataframe\">\n",
       "  <thead>\n",
       "    <tr style=\"text-align: right;\">\n",
       "      <th></th>\n",
       "      <th>precipitacao</th>\n",
       "    </tr>\n",
       "    <tr>\n",
       "      <th>mes</th>\n",
       "      <th></th>\n",
       "    </tr>\n",
       "  </thead>\n",
       "  <tbody>\n",
       "    <tr>\n",
       "      <th>08-2002</th>\n",
       "      <td>0.0</td>\n",
       "    </tr>\n",
       "    <tr>\n",
       "      <th>09-2002</th>\n",
       "      <td>87.0</td>\n",
       "    </tr>\n",
       "    <tr>\n",
       "      <th>10-2002</th>\n",
       "      <td>113.0</td>\n",
       "    </tr>\n",
       "    <tr>\n",
       "      <th>11-2002</th>\n",
       "      <td>119.2</td>\n",
       "    </tr>\n",
       "    <tr>\n",
       "      <th>12-2002</th>\n",
       "      <td>85.6</td>\n",
       "    </tr>\n",
       "  </tbody>\n",
       "</table>\n",
       "</div>"
      ],
      "text/plain": [
       "         precipitacao\n",
       "mes                  \n",
       "08-2002           0.0\n",
       "09-2002          87.0\n",
       "10-2002         113.0\n",
       "11-2002         119.2\n",
       "12-2002          85.6"
      ]
     },
     "execution_count": 137,
     "metadata": {},
     "output_type": "execute_result"
    }
   ],
   "source": [
    "train.tail()"
   ]
  },
  {
   "cell_type": "code",
   "execution_count": 138,
   "id": "20e82934",
   "metadata": {},
   "outputs": [
    {
     "data": {
      "text/plain": [
       "(24, 1)"
      ]
     },
     "execution_count": 138,
     "metadata": {},
     "output_type": "execute_result"
    }
   ],
   "source": [
    "train.shape"
   ]
  },
  {
   "cell_type": "code",
   "execution_count": 139,
   "id": "08172f91",
   "metadata": {},
   "outputs": [
    {
     "data": {
      "text/html": [
       "<div>\n",
       "<style scoped>\n",
       "    .dataframe tbody tr th:only-of-type {\n",
       "        vertical-align: middle;\n",
       "    }\n",
       "\n",
       "    .dataframe tbody tr th {\n",
       "        vertical-align: top;\n",
       "    }\n",
       "\n",
       "    .dataframe thead th {\n",
       "        text-align: right;\n",
       "    }\n",
       "</style>\n",
       "<table border=\"1\" class=\"dataframe\">\n",
       "  <thead>\n",
       "    <tr style=\"text-align: right;\">\n",
       "      <th></th>\n",
       "      <th>precipitacao</th>\n",
       "    </tr>\n",
       "    <tr>\n",
       "      <th>mes</th>\n",
       "      <th></th>\n",
       "    </tr>\n",
       "  </thead>\n",
       "  <tbody>\n",
       "    <tr>\n",
       "      <th>08-2003</th>\n",
       "      <td>0.6</td>\n",
       "    </tr>\n",
       "    <tr>\n",
       "      <th>09-2003</th>\n",
       "      <td>1.0</td>\n",
       "    </tr>\n",
       "    <tr>\n",
       "      <th>10-2003</th>\n",
       "      <td>165.4</td>\n",
       "    </tr>\n",
       "    <tr>\n",
       "      <th>11-2003</th>\n",
       "      <td>104.8</td>\n",
       "    </tr>\n",
       "    <tr>\n",
       "      <th>12-2003</th>\n",
       "      <td>71.2</td>\n",
       "    </tr>\n",
       "  </tbody>\n",
       "</table>\n",
       "</div>"
      ],
      "text/plain": [
       "         precipitacao\n",
       "mes                  \n",
       "08-2003           0.6\n",
       "09-2003           1.0\n",
       "10-2003         165.4\n",
       "11-2003         104.8\n",
       "12-2003          71.2"
      ]
     },
     "execution_count": 139,
     "metadata": {},
     "output_type": "execute_result"
    }
   ],
   "source": [
    "test.tail()"
   ]
  },
  {
   "cell_type": "code",
   "execution_count": 140,
   "id": "50002cdc",
   "metadata": {},
   "outputs": [
    {
     "data": {
      "text/plain": [
       "(12, 1)"
      ]
     },
     "execution_count": 140,
     "metadata": {},
     "output_type": "execute_result"
    }
   ],
   "source": [
    "test.shape"
   ]
  },
  {
   "cell_type": "markdown",
   "id": "82191afe",
   "metadata": {},
   "source": [
    "### Linear Regression"
   ]
  },
  {
   "cell_type": "code",
   "execution_count": 141,
   "id": "84de3919",
   "metadata": {},
   "outputs": [
    {
     "name": "stdout",
     "output_type": "stream",
     "text": [
      "                            OLS Regression Results                            \n",
      "==============================================================================\n",
      "Dep. Variable:                      y   R-squared:                       0.000\n",
      "Model:                            OLS   Adj. R-squared:                 -0.029\n",
      "Method:                 Least Squares   F-statistic:                  0.004100\n",
      "Date:                Thu, 14 Apr 2022   Prob (F-statistic):              0.949\n",
      "Time:                        23:41:23   Log-Likelihood:                -194.82\n",
      "No. Observations:                  36   AIC:                             393.6\n",
      "Df Residuals:                      34   BIC:                             396.8\n",
      "Df Model:                           1                                         \n",
      "Covariance Type:            nonrobust                                         \n",
      "==============================================================================\n",
      "                 coef    std err          t      P>|t|      [0.025      0.975]\n",
      "------------------------------------------------------------------------------\n",
      "const         56.9305     18.210      3.126      0.004      19.923      93.938\n",
      "x1            -0.0573      0.895     -0.064      0.949      -1.876       1.761\n",
      "==============================================================================\n",
      "Omnibus:                        6.120   Durbin-Watson:                   1.343\n",
      "Prob(Omnibus):                  0.047   Jarque-Bera (JB):                4.916\n",
      "Skew:                           0.882   Prob(JB):                       0.0856\n",
      "Kurtosis:                       3.409   Cond. No.                         39.9\n",
      "==============================================================================\n",
      "\n",
      "Notes:\n",
      "[1] Standard Errors assume that the covariance matrix of the errors is correctly specified.\n"
     ]
    }
   ],
   "source": [
    "x = np.arange(0, len(mydata))  # create vector\n",
    "y = np.array(mydata)\n",
    "X = sm.add_constant(x)\n",
    "\n",
    "lr_model = sm.OLS(y, X)\n",
    "lr = model.fit()\n",
    "print(lr.summary())"
   ]
  },
  {
   "cell_type": "markdown",
   "id": "e29e74a6",
   "metadata": {},
   "source": [
    "#### https://datatofish.com/statsmodels-linear-regression/\n",
    "- R-squared : the coefficient of determination. It is the proportion of the variance in the dependent variable that is predictable/explained\n",
    "- Adj. R-squared : Adjusted R-squared is the modified form of R-squared adjusted for the number of independent variables in the model. Value of adj. R-squared increases, when we include extra variables which actually improve the model. - \n",
    "- F-statistic : the ratio of mean squared error of the model to the mean squared error of residuals. It determines the overall significance of the model.\n",
    "- coef : the coefficients of the independent variables and the constant term in the equation.\n",
    "- t : the value of t-statistic. It is the ratio of the difference between the estimated and hypothesized value of a parameter, to the standard error"
   ]
  },
  {
   "cell_type": "code",
   "execution_count": 142,
   "id": "7b5db27d",
   "metadata": {},
   "outputs": [
    {
     "data": {
      "text/plain": [
       "[<matplotlib.lines.Line2D at 0x1a395b6c308>]"
      ]
     },
     "execution_count": 142,
     "metadata": {},
     "output_type": "execute_result"
    },
    {
     "data": {
      "image/png": "[encoded data removed]",
      "text/plain": [
       "<Figure size 576x288 with 1 Axes>"
      ]
     },
     "metadata": {
      "needs_background": "light"
     },
     "output_type": "display_data"
    }
   ],
   "source": [
    "fig, ax = plt.subplots(figsize=(8, 4))\n",
    "ax.scatter(x, y)\n",
    "\n",
    "x_pred = np.linspace(x.min(), x.max(), x.shape[0])\n",
    "x_pred2 = sm.add_constant(x_pred)\n",
    "\n",
    "y_pred = lr.predict(x_pred2)\n",
    "\n",
    "ax.plot(x_pred, y_pred, '-', color='green')"
   ]
  },
  {
   "cell_type": "code",
   "execution_count": 143,
   "id": "2a553756",
   "metadata": {
    "scrolled": true
   },
   "outputs": [
    {
     "data": {
      "text/plain": [
       "array([56.93048048, 56.87318318, 56.81588589, 56.75858859, 56.70129129,\n",
       "       56.64399399, 56.5866967 , 56.5293994 , 56.4721021 , 56.4148048 ,\n",
       "       56.35750751, 56.30021021, 56.24291291, 56.18561562, 56.12831832,\n",
       "       56.07102102, 56.01372372, 55.95642643, 55.89912913, 55.84183183,\n",
       "       55.78453453, 55.72723724, 55.66993994, 55.61264264, 55.55534535,\n",
       "       55.49804805, 55.44075075, 55.38345345, 55.32615616, 55.26885886,\n",
       "       55.21156156, 55.15426426, 55.09696697, 55.03966967, 54.98237237,\n",
       "       54.92507508])"
      ]
     },
     "execution_count": 143,
     "metadata": {},
     "output_type": "execute_result"
    }
   ],
   "source": [
    "y_pred"
   ]
  },
  {
   "cell_type": "code",
   "execution_count": 144,
   "id": "c4bdc261",
   "metadata": {},
   "outputs": [
    {
     "data": {
      "image/png": "[encoded data removed]",
      "text/plain": [
       "<Figure size 864x576 with 1 Axes>"
      ]
     },
     "metadata": {
      "needs_background": "light"
     },
     "output_type": "display_data"
    }
   ],
   "source": [
    "plt.figure(figsize=(12, 8))\n",
    "plt.plot(train, label='Train')\n",
    "plt.plot(test, label='Test')\n",
    "plt.plot(y_pred, label='Test')\n",
    "plt.show()"
   ]
  },
  {
   "cell_type": "code",
   "execution_count": null,
   "id": "43e4739b",
   "metadata": {},
   "outputs": [],
   "source": []
  },
  {
   "cell_type": "code",
   "execution_count": null,
   "id": "392919ca",
   "metadata": {},
   "outputs": [],
   "source": []
  },
  {
   "cell_type": "code",
   "execution_count": null,
   "id": "0d886103",
   "metadata": {},
   "outputs": [],
   "source": []
  },
  {
   "cell_type": "code",
   "execution_count": null,
   "id": "3e6e1969",
   "metadata": {},
   "outputs": [],
   "source": []
  },
  {
   "cell_type": "code",
   "execution_count": null,
   "id": "1098ac5c",
   "metadata": {},
   "outputs": [],
   "source": []
  },
  {
   "cell_type": "code",
   "execution_count": null,
   "id": "6a7cffad",
   "metadata": {},
   "outputs": [],
   "source": []
  },
  {
   "cell_type": "code",
   "execution_count": null,
   "id": "ef6a2d24",
   "metadata": {},
   "outputs": [],
   "source": []
  },
  {
   "cell_type": "code",
   "execution_count": null,
   "id": "f43f1ce3",
   "metadata": {},
   "outputs": [],
   "source": []
  },
  {
   "cell_type": "code",
   "execution_count": null,
   "id": "fedeabd8",
   "metadata": {},
   "outputs": [],
   "source": []
  },
  {
   "cell_type": "code",
   "execution_count": null,
   "id": "bee705ef",
   "metadata": {},
   "outputs": [],
   "source": []
  },
  {
   "cell_type": "code",
   "execution_count": null,
   "id": "6081df1e",
   "metadata": {},
   "outputs": [],
   "source": []
  },
  {
   "cell_type": "code",
   "execution_count": null,
   "id": "56dba166",
   "metadata": {},
   "outputs": [],
   "source": []
  },
  {
   "cell_type": "code",
   "execution_count": null,
   "id": "9c41f45c",
   "metadata": {},
   "outputs": [],
   "source": []
  },
  {
   "cell_type": "code",
   "execution_count": null,
   "id": "bee2afb6",
   "metadata": {},
   "outputs": [],
   "source": []
  },
  {
   "cell_type": "code",
   "execution_count": null,
   "id": "96e5a9c4",
   "metadata": {},
   "outputs": [],
   "source": []
  },
  {
   "cell_type": "code",
   "execution_count": null,
   "id": "298089f0",
   "metadata": {},
   "outputs": [],
   "source": []
  },
  {
   "cell_type": "code",
   "execution_count": null,
   "id": "973a8b42",
   "metadata": {},
   "outputs": [],
   "source": []
  }
 ],
 "metadata": {
  "kernelspec": {
   "display_name": "venv",
   "language": "python",
   "name": "venv"
  },
  "language_info": {
   "codemirror_mode": {
    "name": "ipython",
    "version": 3
   },
   "file_extension": ".py",
   "mimetype": "text/x-python",
   "name": "python",
   "nbconvert_exporter": "python",
   "pygments_lexer": "ipython3",
   "version": "3.7.9"
  }
 },
 "nbformat": 4,
 "nbformat_minor": 5
}
