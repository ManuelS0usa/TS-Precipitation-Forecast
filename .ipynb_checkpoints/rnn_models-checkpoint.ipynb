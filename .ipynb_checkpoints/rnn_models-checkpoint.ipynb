{
 "cells": [
  {
   "cell_type": "markdown",
   "id": "46adbafb",
   "metadata": {},
   "source": [
    "# Artificial Neural Networks Time Series Models"
   ]
  },
  {
   "cell_type": "code",
   "execution_count": 1,
   "id": "c6877f0c",
   "metadata": {},
   "outputs": [],
   "source": [
    "import numpy as np\n",
    "import matplotlib.pyplot as plt\n",
    "import pandas as pd\n",
    "\n",
    "from data_load import Data_Reader"
   ]
  },
  {
   "cell_type": "code",
   "execution_count": null,
   "id": "e628eca3",
   "metadata": {},
   "outputs": [],
   "source": [
    "load_data = Data_Reader()"
   ]
  },
  {
   "cell_type": "code",
   "execution_count": null,
   "id": "bc515eff",
   "metadata": {},
   "outputs": [],
   "source": [
    "df = load_data.get_df()"
   ]
  },
  {
   "cell_type": "code",
   "execution_count": null,
   "id": "dad10f77",
   "metadata": {},
   "outputs": [],
   "source": [
    "df.head()"
   ]
  },
  {
   "cell_type": "code",
   "execution_count": null,
   "id": "150c2da6",
   "metadata": {},
   "outputs": [],
   "source": [
    "mydata = load_data.transform()"
   ]
  },
  {
   "cell_type": "code",
   "execution_count": null,
   "id": "516b1098",
   "metadata": {},
   "outputs": [],
   "source": [
    "mydata"
   ]
  },
  {
   "cell_type": "code",
   "execution_count": null,
   "id": "830b17e1",
   "metadata": {},
   "outputs": [],
   "source": [
    "mydata.plot.line(figsize=(15,8), title='Precipitação')"
   ]
  },
  {
   "cell_type": "markdown",
   "id": "dacbf386",
   "metadata": {},
   "source": [
    "### forecast horizont"
   ]
  },
  {
   "cell_type": "code",
   "execution_count": null,
   "id": "87d49a38",
   "metadata": {},
   "outputs": [],
   "source": [
    "# forecast horizon variable\n",
    "# 24 months forecast\n",
    "fh = 24"
   ]
  },
  {
   "cell_type": "code",
   "execution_count": null,
   "id": "a3e8529a",
   "metadata": {},
   "outputs": [],
   "source": [
    "# Split data into training and testing samples\n",
    "data_split = load_data.test_training_split(mydata, months_test_size=fh)\n",
    "train_data = data_split['train']\n",
    "test_data = data_split['test']"
   ]
  },
  {
   "cell_type": "code",
   "execution_count": null,
   "id": "f021895e",
   "metadata": {},
   "outputs": [],
   "source": [
    "train_data.tail()"
   ]
  },
  {
   "cell_type": "code",
   "execution_count": null,
   "id": "0b314cfc",
   "metadata": {},
   "outputs": [],
   "source": [
    "train_data.shape"
   ]
  },
  {
   "cell_type": "markdown",
   "id": "b7ee9898",
   "metadata": {},
   "source": [
    "models training"
   ]
  },
  {
   "cell_type": "code",
   "execution_count": null,
   "id": "2cd9dc12",
   "metadata": {},
   "outputs": [],
   "source": []
  },
  {
   "cell_type": "code",
   "execution_count": null,
   "id": "49ce9799",
   "metadata": {},
   "outputs": [],
   "source": []
  },
  {
   "cell_type": "code",
   "execution_count": null,
   "id": "9127c74f",
   "metadata": {},
   "outputs": [],
   "source": [
    "# scale the data\n",
    "from sklearn.preprocessing import MinMaxScaler\n",
    "\n",
    "# scale between 0 and 1\n",
    "sc = MinMaxScaler(feature_range = (0, 1))\n",
    "train_data_scaled = sc.fit_transform(train_data)\n",
    "print(train_data_scaled)"
   ]
  },
  {
   "cell_type": "code",
   "execution_count": null,
   "id": "d6e54606",
   "metadata": {},
   "outputs": [],
   "source": []
  },
  {
   "cell_type": "code",
   "execution_count": null,
   "id": "c082c9df",
   "metadata": {},
   "outputs": [],
   "source": []
  },
  {
   "cell_type": "code",
   "execution_count": null,
   "id": "9a08da2c",
   "metadata": {},
   "outputs": [],
   "source": []
  },
  {
   "cell_type": "code",
   "execution_count": null,
   "id": "463815fd",
   "metadata": {},
   "outputs": [],
   "source": []
  },
  {
   "cell_type": "code",
   "execution_count": null,
   "id": "12e5c027",
   "metadata": {},
   "outputs": [],
   "source": []
  },
  {
   "cell_type": "code",
   "execution_count": null,
   "id": "dfa0e5ef",
   "metadata": {},
   "outputs": [],
   "source": []
  },
  {
   "cell_type": "code",
   "execution_count": null,
   "id": "31e13cc8",
   "metadata": {},
   "outputs": [],
   "source": []
  },
  {
   "cell_type": "code",
   "execution_count": null,
   "id": "eedd76cb",
   "metadata": {},
   "outputs": [],
   "source": []
  },
  {
   "cell_type": "code",
   "execution_count": null,
   "id": "a5752f30",
   "metadata": {},
   "outputs": [],
   "source": []
  },
  {
   "cell_type": "code",
   "execution_count": null,
   "id": "d2e062db",
   "metadata": {},
   "outputs": [],
   "source": []
  },
  {
   "cell_type": "code",
   "execution_count": null,
   "id": "bf4a6ecb",
   "metadata": {},
   "outputs": [],
   "source": []
  },
  {
   "cell_type": "code",
   "execution_count": null,
   "id": "7ae52b17",
   "metadata": {},
   "outputs": [],
   "source": []
  },
  {
   "cell_type": "code",
   "execution_count": null,
   "id": "84c19acb",
   "metadata": {},
   "outputs": [],
   "source": []
  },
  {
   "cell_type": "code",
   "execution_count": null,
   "id": "15b3a8c0",
   "metadata": {},
   "outputs": [],
   "source": []
  },
  {
   "cell_type": "code",
   "execution_count": null,
   "id": "8f4e7e8d",
   "metadata": {},
   "outputs": [],
   "source": []
  },
  {
   "cell_type": "code",
   "execution_count": null,
   "id": "52722cf2",
   "metadata": {},
   "outputs": [],
   "source": []
  },
  {
   "cell_type": "code",
   "execution_count": null,
   "id": "ce3ea5c4",
   "metadata": {},
   "outputs": [],
   "source": []
  },
  {
   "cell_type": "code",
   "execution_count": null,
   "id": "7ba39971",
   "metadata": {},
   "outputs": [],
   "source": []
  }
 ],
 "metadata": {
  "kernelspec": {
   "display_name": "venv",
   "language": "python",
   "name": "venv"
  },
  "language_info": {
   "codemirror_mode": {
    "name": "ipython",
    "version": 3
   },
   "file_extension": ".py",
   "mimetype": "text/x-python",
   "name": "python",
   "nbconvert_exporter": "python",
   "pygments_lexer": "ipython3",
   "version": "3.7.9"
  }
 },
 "nbformat": 4,
 "nbformat_minor": 5
}
