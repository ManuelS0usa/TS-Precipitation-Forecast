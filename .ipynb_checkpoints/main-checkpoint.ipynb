{
 "cells": [
  {
   "cell_type": "code",
   "execution_count": 52,
   "id": "1d4a887d",
   "metadata": {},
   "outputs": [],
   "source": [
    "import pandas as pd"
   ]
  },
  {
   "cell_type": "code",
   "execution_count": 53,
   "id": "844b7c3e",
   "metadata": {},
   "outputs": [],
   "source": [
    "file_path = \"./dataset/Livro1.xlsx\""
   ]
  },
  {
   "cell_type": "code",
   "execution_count": 54,
   "id": "d4ff44fe",
   "metadata": {
    "scrolled": false
   },
   "outputs": [],
   "source": [
    "df = pd.read_excel(file_path, engine=\"openpyxl\")"
   ]
  },
  {
   "cell_type": "code",
   "execution_count": 55,
   "id": "5ca09c19",
   "metadata": {
    "scrolled": true
   },
   "outputs": [
    {
     "data": {
      "text/html": [
       "<div>\n",
       "<style scoped>\n",
       "    .dataframe tbody tr th:only-of-type {\n",
       "        vertical-align: middle;\n",
       "    }\n",
       "\n",
       "    .dataframe tbody tr th {\n",
       "        vertical-align: top;\n",
       "    }\n",
       "\n",
       "    .dataframe thead th {\n",
       "        text-align: right;\n",
       "    }\n",
       "</style>\n",
       "<table border=\"1\" class=\"dataframe\">\n",
       "  <thead>\n",
       "    <tr style=\"text-align: right;\">\n",
       "      <th></th>\n",
       "      <th>ano</th>\n",
       "      <th>janeiro</th>\n",
       "      <th>fevereiro</th>\n",
       "      <th>março</th>\n",
       "      <th>abril</th>\n",
       "      <th>maio</th>\n",
       "      <th>junho</th>\n",
       "      <th>julho</th>\n",
       "      <th>agosto</th>\n",
       "      <th>setembro</th>\n",
       "      <th>outubro</th>\n",
       "      <th>novembro</th>\n",
       "      <th>dezembro</th>\n",
       "    </tr>\n",
       "  </thead>\n",
       "  <tbody>\n",
       "    <tr>\n",
       "      <th>0</th>\n",
       "      <td>2001</td>\n",
       "      <td>135.9</td>\n",
       "      <td>68.7</td>\n",
       "      <td>138.8</td>\n",
       "      <td>3.6</td>\n",
       "      <td>9.8</td>\n",
       "      <td>0.4</td>\n",
       "      <td>0</td>\n",
       "      <td>0.2</td>\n",
       "      <td>71</td>\n",
       "      <td>69.8</td>\n",
       "      <td>56.6</td>\n",
       "      <td>217.4</td>\n",
       "    </tr>\n",
       "    <tr>\n",
       "      <th>1</th>\n",
       "      <td>2002</td>\n",
       "      <td>49.8</td>\n",
       "      <td>12.0</td>\n",
       "      <td>67.6</td>\n",
       "      <td>54.0</td>\n",
       "      <td>28.8</td>\n",
       "      <td>0.6</td>\n",
       "      <td>0</td>\n",
       "      <td>0.0</td>\n",
       "      <td>87</td>\n",
       "      <td>113.0</td>\n",
       "      <td>119.2</td>\n",
       "      <td>85.6</td>\n",
       "    </tr>\n",
       "    <tr>\n",
       "      <th>2</th>\n",
       "      <td>2003</td>\n",
       "      <td>51.0</td>\n",
       "      <td>79.4</td>\n",
       "      <td>63.0</td>\n",
       "      <td>79.2</td>\n",
       "      <td>8.0</td>\n",
       "      <td>0.0</td>\n",
       "      <td>0</td>\n",
       "      <td>0.6</td>\n",
       "      <td>1</td>\n",
       "      <td>165.4</td>\n",
       "      <td>104.8</td>\n",
       "      <td>71.2</td>\n",
       "    </tr>\n",
       "  </tbody>\n",
       "</table>\n",
       "</div>"
      ],
      "text/plain": [
       "    ano  janeiro  fevereiro  março  abril  maio  junho  julho  agosto  \\\n",
       "0  2001    135.9       68.7  138.8    3.6   9.8    0.4      0     0.2   \n",
       "1  2002     49.8       12.0   67.6   54.0  28.8    0.6      0     0.0   \n",
       "2  2003     51.0       79.4   63.0   79.2   8.0    0.0      0     0.6   \n",
       "\n",
       "   setembro  outubro  novembro  dezembro  \n",
       "0        71     69.8      56.6     217.4  \n",
       "1        87    113.0     119.2      85.6  \n",
       "2         1    165.4     104.8      71.2  "
      ]
     },
     "execution_count": 55,
     "metadata": {},
     "output_type": "execute_result"
    }
   ],
   "source": [
    "df.head()"
   ]
  },
  {
   "cell_type": "code",
   "execution_count": 81,
   "id": "05a70a66",
   "metadata": {},
   "outputs": [],
   "source": [
    "months = df.columns[1:]"
   ]
  },
  {
   "cell_type": "code",
   "execution_count": 82,
   "id": "efdbbb0f",
   "metadata": {},
   "outputs": [
    {
     "data": {
      "text/plain": [
       "Index(['janeiro', 'fevereiro', 'março', 'abril', 'maio', 'junho', 'julho',\n",
       "       'agosto', 'setembro', 'outubro', 'novembro', 'dezembro'],\n",
       "      dtype='object')"
      ]
     },
     "execution_count": 82,
     "metadata": {},
     "output_type": "execute_result"
    }
   ],
   "source": [
    "months"
   ]
  },
  {
   "cell_type": "code",
   "execution_count": 83,
   "id": "f81d4e83",
   "metadata": {},
   "outputs": [],
   "source": [
    "years = df['ano']"
   ]
  },
  {
   "cell_type": "code",
   "execution_count": 86,
   "id": "b5831e76",
   "metadata": {},
   "outputs": [
    {
     "data": {
      "text/plain": [
       "0    2001\n",
       "1    2002\n",
       "2    2003\n",
       "Name: ano, dtype: int64"
      ]
     },
     "execution_count": 86,
     "metadata": {},
     "output_type": "execute_result"
    }
   ],
   "source": [
    "years"
   ]
  },
  {
   "cell_type": "code",
   "execution_count": 94,
   "id": "9994fb67",
   "metadata": {
    "scrolled": true
   },
   "outputs": [
    {
     "data": {
      "text/html": [
       "<div>\n",
       "<style scoped>\n",
       "    .dataframe tbody tr th:only-of-type {\n",
       "        vertical-align: middle;\n",
       "    }\n",
       "\n",
       "    .dataframe tbody tr th {\n",
       "        vertical-align: top;\n",
       "    }\n",
       "\n",
       "    .dataframe thead th {\n",
       "        text-align: right;\n",
       "    }\n",
       "</style>\n",
       "<table border=\"1\" class=\"dataframe\">\n",
       "  <thead>\n",
       "    <tr style=\"text-align: right;\">\n",
       "      <th></th>\n",
       "      <th>janeiro</th>\n",
       "      <th>fevereiro</th>\n",
       "      <th>março</th>\n",
       "      <th>abril</th>\n",
       "      <th>maio</th>\n",
       "      <th>junho</th>\n",
       "      <th>julho</th>\n",
       "      <th>agosto</th>\n",
       "      <th>setembro</th>\n",
       "      <th>outubro</th>\n",
       "      <th>novembro</th>\n",
       "      <th>dezembro</th>\n",
       "    </tr>\n",
       "  </thead>\n",
       "  <tbody>\n",
       "    <tr>\n",
       "      <th>0</th>\n",
       "      <td>135.9</td>\n",
       "      <td>68.7</td>\n",
       "      <td>138.8</td>\n",
       "      <td>3.6</td>\n",
       "      <td>9.8</td>\n",
       "      <td>0.4</td>\n",
       "      <td>0</td>\n",
       "      <td>0.2</td>\n",
       "      <td>71</td>\n",
       "      <td>69.8</td>\n",
       "      <td>56.6</td>\n",
       "      <td>217.4</td>\n",
       "    </tr>\n",
       "    <tr>\n",
       "      <th>1</th>\n",
       "      <td>49.8</td>\n",
       "      <td>12.0</td>\n",
       "      <td>67.6</td>\n",
       "      <td>54.0</td>\n",
       "      <td>28.8</td>\n",
       "      <td>0.6</td>\n",
       "      <td>0</td>\n",
       "      <td>0.0</td>\n",
       "      <td>87</td>\n",
       "      <td>113.0</td>\n",
       "      <td>119.2</td>\n",
       "      <td>85.6</td>\n",
       "    </tr>\n",
       "    <tr>\n",
       "      <th>2</th>\n",
       "      <td>51.0</td>\n",
       "      <td>79.4</td>\n",
       "      <td>63.0</td>\n",
       "      <td>79.2</td>\n",
       "      <td>8.0</td>\n",
       "      <td>0.0</td>\n",
       "      <td>0</td>\n",
       "      <td>0.6</td>\n",
       "      <td>1</td>\n",
       "      <td>165.4</td>\n",
       "      <td>104.8</td>\n",
       "      <td>71.2</td>\n",
       "    </tr>\n",
       "  </tbody>\n",
       "</table>\n",
       "</div>"
      ],
      "text/plain": [
       "   janeiro  fevereiro  março  abril  maio  junho  julho  agosto  setembro  \\\n",
       "0    135.9       68.7  138.8    3.6   9.8    0.4      0     0.2        71   \n",
       "1     49.8       12.0   67.6   54.0  28.8    0.6      0     0.0        87   \n",
       "2     51.0       79.4   63.0   79.2   8.0    0.0      0     0.6         1   \n",
       "\n",
       "   outubro  novembro  dezembro  \n",
       "0     69.8      56.6     217.4  \n",
       "1    113.0     119.2      85.6  \n",
       "2    165.4     104.8      71.2  "
      ]
     },
     "execution_count": 94,
     "metadata": {},
     "output_type": "execute_result"
    }
   ],
   "source": [
    "df"
   ]
  },
  {
   "cell_type": "code",
   "execution_count": 106,
   "id": "b0533bf9",
   "metadata": {},
   "outputs": [],
   "source": [
    "months = {\n",
    "    'janeiro': '01', \n",
    "    'fevereiro': '02', \n",
    "    'março': '03', \n",
    "    'abril': '04', \n",
    "    'maio': '05', \n",
    "    'junho': '06', \n",
    "    'julho': '07', \n",
    "    'agosto': '08',\n",
    "    'setembro': '09',\n",
    "    'outubro': '10',\n",
    "    'novembro': '11',\n",
    "    'dezembro': '12'\n",
    "}"
   ]
  },
  {
   "cell_type": "code",
   "execution_count": 116,
   "id": "5ed6640d",
   "metadata": {},
   "outputs": [
    {
     "name": "stdout",
     "output_type": "stream",
     "text": [
      "01-2001 135.9\n",
      "02-2001 68.7\n",
      "03-2001 138.8\n",
      "04-2001 3.6\n",
      "05-2001 9.8\n",
      "06-2001 0.4\n",
      "07-2001 0\n",
      "08-2001 0.2\n",
      "09-2001 71\n",
      "10-2001 69.8\n",
      "11-2001 56.6\n",
      "12-2001 217.4\n",
      "01-2002 49.8\n",
      "02-2002 12.0\n",
      "03-2002 67.6\n",
      "04-2002 54.0\n",
      "05-2002 28.8\n",
      "06-2002 0.6\n",
      "07-2002 0\n",
      "08-2002 0.0\n",
      "09-2002 87\n",
      "10-2002 113.0\n",
      "11-2002 119.2\n",
      "12-2002 85.6\n",
      "01-2003 51.0\n",
      "02-2003 79.4\n",
      "03-2003 63.0\n",
      "04-2003 79.2\n",
      "05-2003 8.0\n",
      "06-2003 0.0\n",
      "07-2003 0\n",
      "08-2003 0.6\n",
      "09-2003 1\n",
      "10-2003 165.4\n",
      "11-2003 104.8\n",
      "12-2003 71.2\n"
     ]
    }
   ],
   "source": [
    "row = []\n",
    "for idx in years.index:    \n",
    "    year = years[idx]\n",
    "    for column, value in df.iteritems():\n",
    "#         print(months[column] + '-' + str(year), value[idx])    \n",
    "        row.append({\n",
    "            'mes': months[column] + '-' + str(year), \n",
    "            'precipitacao': value[idx]\n",
    "        }) \n",
    "\n",
    "mydata = pd.DataFrame(d)\n",
    "            "
   ]
  },
  {
   "cell_type": "code",
   "execution_count": 118,
   "id": "d0ea9617",
   "metadata": {},
   "outputs": [
    {
     "data": {
      "text/html": [
       "<div>\n",
       "<style scoped>\n",
       "    .dataframe tbody tr th:only-of-type {\n",
       "        vertical-align: middle;\n",
       "    }\n",
       "\n",
       "    .dataframe tbody tr th {\n",
       "        vertical-align: top;\n",
       "    }\n",
       "\n",
       "    .dataframe thead th {\n",
       "        text-align: right;\n",
       "    }\n",
       "</style>\n",
       "<table border=\"1\" class=\"dataframe\">\n",
       "  <thead>\n",
       "    <tr style=\"text-align: right;\">\n",
       "      <th></th>\n",
       "      <th>value</th>\n",
       "    </tr>\n",
       "    <tr>\n",
       "      <th>mes</th>\n",
       "      <th></th>\n",
       "    </tr>\n",
       "  </thead>\n",
       "  <tbody>\n",
       "    <tr>\n",
       "      <th>01-2001</th>\n",
       "      <td>135.9</td>\n",
       "    </tr>\n",
       "    <tr>\n",
       "      <th>02-2001</th>\n",
       "      <td>68.7</td>\n",
       "    </tr>\n",
       "    <tr>\n",
       "      <th>03-2001</th>\n",
       "      <td>138.8</td>\n",
       "    </tr>\n",
       "    <tr>\n",
       "      <th>04-2001</th>\n",
       "      <td>3.6</td>\n",
       "    </tr>\n",
       "    <tr>\n",
       "      <th>05-2001</th>\n",
       "      <td>9.8</td>\n",
       "    </tr>\n",
       "    <tr>\n",
       "      <th>06-2001</th>\n",
       "      <td>0.4</td>\n",
       "    </tr>\n",
       "    <tr>\n",
       "      <th>07-2001</th>\n",
       "      <td>0.0</td>\n",
       "    </tr>\n",
       "    <tr>\n",
       "      <th>08-2001</th>\n",
       "      <td>0.2</td>\n",
       "    </tr>\n",
       "    <tr>\n",
       "      <th>09-2001</th>\n",
       "      <td>71.0</td>\n",
       "    </tr>\n",
       "    <tr>\n",
       "      <th>10-2001</th>\n",
       "      <td>69.8</td>\n",
       "    </tr>\n",
       "    <tr>\n",
       "      <th>11-2001</th>\n",
       "      <td>56.6</td>\n",
       "    </tr>\n",
       "    <tr>\n",
       "      <th>12-2001</th>\n",
       "      <td>217.4</td>\n",
       "    </tr>\n",
       "    <tr>\n",
       "      <th>01-2002</th>\n",
       "      <td>49.8</td>\n",
       "    </tr>\n",
       "    <tr>\n",
       "      <th>02-2002</th>\n",
       "      <td>12.0</td>\n",
       "    </tr>\n",
       "    <tr>\n",
       "      <th>03-2002</th>\n",
       "      <td>67.6</td>\n",
       "    </tr>\n",
       "    <tr>\n",
       "      <th>04-2002</th>\n",
       "      <td>54.0</td>\n",
       "    </tr>\n",
       "    <tr>\n",
       "      <th>05-2002</th>\n",
       "      <td>28.8</td>\n",
       "    </tr>\n",
       "    <tr>\n",
       "      <th>06-2002</th>\n",
       "      <td>0.6</td>\n",
       "    </tr>\n",
       "    <tr>\n",
       "      <th>07-2002</th>\n",
       "      <td>0.0</td>\n",
       "    </tr>\n",
       "    <tr>\n",
       "      <th>08-2002</th>\n",
       "      <td>0.0</td>\n",
       "    </tr>\n",
       "    <tr>\n",
       "      <th>09-2002</th>\n",
       "      <td>87.0</td>\n",
       "    </tr>\n",
       "    <tr>\n",
       "      <th>10-2002</th>\n",
       "      <td>113.0</td>\n",
       "    </tr>\n",
       "    <tr>\n",
       "      <th>11-2002</th>\n",
       "      <td>119.2</td>\n",
       "    </tr>\n",
       "    <tr>\n",
       "      <th>12-2002</th>\n",
       "      <td>85.6</td>\n",
       "    </tr>\n",
       "    <tr>\n",
       "      <th>01-2003</th>\n",
       "      <td>51.0</td>\n",
       "    </tr>\n",
       "    <tr>\n",
       "      <th>02-2003</th>\n",
       "      <td>79.4</td>\n",
       "    </tr>\n",
       "    <tr>\n",
       "      <th>03-2003</th>\n",
       "      <td>63.0</td>\n",
       "    </tr>\n",
       "    <tr>\n",
       "      <th>04-2003</th>\n",
       "      <td>79.2</td>\n",
       "    </tr>\n",
       "    <tr>\n",
       "      <th>05-2003</th>\n",
       "      <td>8.0</td>\n",
       "    </tr>\n",
       "    <tr>\n",
       "      <th>06-2003</th>\n",
       "      <td>0.0</td>\n",
       "    </tr>\n",
       "    <tr>\n",
       "      <th>07-2003</th>\n",
       "      <td>0.0</td>\n",
       "    </tr>\n",
       "    <tr>\n",
       "      <th>08-2003</th>\n",
       "      <td>0.6</td>\n",
       "    </tr>\n",
       "    <tr>\n",
       "      <th>09-2003</th>\n",
       "      <td>1.0</td>\n",
       "    </tr>\n",
       "    <tr>\n",
       "      <th>10-2003</th>\n",
       "      <td>165.4</td>\n",
       "    </tr>\n",
       "    <tr>\n",
       "      <th>11-2003</th>\n",
       "      <td>104.8</td>\n",
       "    </tr>\n",
       "    <tr>\n",
       "      <th>12-2003</th>\n",
       "      <td>71.2</td>\n",
       "    </tr>\n",
       "  </tbody>\n",
       "</table>\n",
       "</div>"
      ],
      "text/plain": [
       "         value\n",
       "mes           \n",
       "01-2001  135.9\n",
       "02-2001   68.7\n",
       "03-2001  138.8\n",
       "04-2001    3.6\n",
       "05-2001    9.8\n",
       "06-2001    0.4\n",
       "07-2001    0.0\n",
       "08-2001    0.2\n",
       "09-2001   71.0\n",
       "10-2001   69.8\n",
       "11-2001   56.6\n",
       "12-2001  217.4\n",
       "01-2002   49.8\n",
       "02-2002   12.0\n",
       "03-2002   67.6\n",
       "04-2002   54.0\n",
       "05-2002   28.8\n",
       "06-2002    0.6\n",
       "07-2002    0.0\n",
       "08-2002    0.0\n",
       "09-2002   87.0\n",
       "10-2002  113.0\n",
       "11-2002  119.2\n",
       "12-2002   85.6\n",
       "01-2003   51.0\n",
       "02-2003   79.4\n",
       "03-2003   63.0\n",
       "04-2003   79.2\n",
       "05-2003    8.0\n",
       "06-2003    0.0\n",
       "07-2003    0.0\n",
       "08-2003    0.6\n",
       "09-2003    1.0\n",
       "10-2003  165.4\n",
       "11-2003  104.8\n",
       "12-2003   71.2"
      ]
     },
     "execution_count": 118,
     "metadata": {},
     "output_type": "execute_result"
    }
   ],
   "source": [
    "mydata.set_index('mes')"
   ]
  },
  {
   "cell_type": "code",
   "execution_count": 75,
   "id": "094aa2e1",
   "metadata": {},
   "outputs": [
    {
     "name": "stdout",
     "output_type": "stream",
     "text": [
      "ano 0    2001\n",
      "1    2002\n",
      "2    2003\n",
      "Name: ano, dtype: int64\n",
      "janeiro 0    135.9\n",
      "1     49.8\n",
      "2     51.0\n",
      "Name: janeiro, dtype: float64\n",
      "fevereiro 0    68.7\n",
      "1    12.0\n",
      "2    79.4\n",
      "Name: fevereiro, dtype: float64\n",
      "março 0    138.8\n",
      "1     67.6\n",
      "2     63.0\n",
      "Name: março, dtype: float64\n",
      "abril 0     3.6\n",
      "1    54.0\n",
      "2    79.2\n",
      "Name: abril, dtype: float64\n",
      "maio 0     9.8\n",
      "1    28.8\n",
      "2     8.0\n",
      "Name: maio, dtype: float64\n",
      "junho 0    0.4\n",
      "1    0.6\n",
      "2    0.0\n",
      "Name: junho, dtype: float64\n",
      "julho 0    0\n",
      "1    0\n",
      "2    0\n",
      "Name: julho, dtype: int64\n",
      "agosto 0    0.2\n",
      "1    0.0\n",
      "2    0.6\n",
      "Name: agosto, dtype: float64\n",
      "setembro 0    71\n",
      "1    87\n",
      "2     1\n",
      "Name: setembro, dtype: int64\n",
      "outubro 0     69.8\n",
      "1    113.0\n",
      "2    165.4\n",
      "Name: outubro, dtype: float64\n",
      "novembro 0     56.6\n",
      "1    119.2\n",
      "2    104.8\n",
      "Name: novembro, dtype: float64\n",
      "dezembro 0    217.4\n",
      "1     85.6\n",
      "2     71.2\n",
      "Name: dezembro, dtype: float64\n"
     ]
    }
   ],
   "source": [
    "for column, value in df.iteritems():\n",
    "    print(column, value)    "
   ]
  },
  {
   "cell_type": "code",
   "execution_count": null,
   "id": "beef6c9b",
   "metadata": {},
   "outputs": [],
   "source": []
  },
  {
   "cell_type": "code",
   "execution_count": null,
   "id": "18a8f576",
   "metadata": {},
   "outputs": [],
   "source": []
  },
  {
   "cell_type": "code",
   "execution_count": null,
   "id": "13b9f412",
   "metadata": {},
   "outputs": [],
   "source": []
  },
  {
   "cell_type": "code",
   "execution_count": null,
   "id": "bbfe25de",
   "metadata": {},
   "outputs": [],
   "source": []
  },
  {
   "cell_type": "code",
   "execution_count": null,
   "id": "ed9ab6f1",
   "metadata": {},
   "outputs": [],
   "source": []
  },
  {
   "cell_type": "code",
   "execution_count": null,
   "id": "069a672d",
   "metadata": {},
   "outputs": [],
   "source": []
  },
  {
   "cell_type": "code",
   "execution_count": null,
   "id": "a3d0aea1",
   "metadata": {},
   "outputs": [],
   "source": []
  },
  {
   "cell_type": "code",
   "execution_count": null,
   "id": "5ba58622",
   "metadata": {},
   "outputs": [],
   "source": []
  },
  {
   "cell_type": "code",
   "execution_count": null,
   "id": "055beac8",
   "metadata": {},
   "outputs": [],
   "source": []
  },
  {
   "cell_type": "code",
   "execution_count": null,
   "id": "f7fc45cf",
   "metadata": {},
   "outputs": [],
   "source": []
  },
  {
   "cell_type": "code",
   "execution_count": null,
   "id": "2c65a727",
   "metadata": {},
   "outputs": [],
   "source": []
  },
  {
   "cell_type": "code",
   "execution_count": 10,
   "id": "0bdd6877",
   "metadata": {},
   "outputs": [],
   "source": [
    "import warnings\n",
    "import logging\n",
    "\n",
    "import pandas as pd"
   ]
  },
  {
   "cell_type": "code",
   "execution_count": 11,
   "id": "f8d06523",
   "metadata": {},
   "outputs": [],
   "source": [
    "logging.basicConfig(level=logging.WARN)\n",
    "logger = logging.getLogger(__name__)"
   ]
  },
  {
   "cell_type": "code",
   "execution_count": 14,
   "id": "1d8be8cb",
   "metadata": {},
   "outputs": [
    {
     "name": "stderr",
     "output_type": "stream",
     "text": [
      "ERROR:__main__:Unable to read dataset XLSX, check your internet connection. Error: 'utf-8' codec can't decode bytes in position 15-16: invalid continuation byte\n",
      "Traceback (most recent call last):\n",
      "  File \"C:\\Users\\ManuelSousa\\AppData\\Local\\Temp\\ipykernel_16408\\2059663769.py\", line 8, in <module>\n",
      "    df = pd.read_csv(file_path)\n",
      "  File \"c:\\users\\manuelsousa\\appdata\\local\\programs\\python\\python37\\lib\\site-packages\\pandas\\util\\_decorators.py\", line 311, in wrapper\n",
      "    return func(*args, **kwargs)\n",
      "  File \"c:\\users\\manuelsousa\\appdata\\local\\programs\\python\\python37\\lib\\site-packages\\pandas\\io\\parsers\\readers.py\", line 586, in read_csv\n",
      "    return _read(filepath_or_buffer, kwds)\n",
      "  File \"c:\\users\\manuelsousa\\appdata\\local\\programs\\python\\python37\\lib\\site-packages\\pandas\\io\\parsers\\readers.py\", line 482, in _read\n",
      "    parser = TextFileReader(filepath_or_buffer, **kwds)\n",
      "  File \"c:\\users\\manuelsousa\\appdata\\local\\programs\\python\\python37\\lib\\site-packages\\pandas\\io\\parsers\\readers.py\", line 811, in __init__\n",
      "    self._engine = self._make_engine(self.engine)\n",
      "  File \"c:\\users\\manuelsousa\\appdata\\local\\programs\\python\\python37\\lib\\site-packages\\pandas\\io\\parsers\\readers.py\", line 1040, in _make_engine\n",
      "    return mapping[engine](self.f, **self.options)  # type: ignore[call-arg]\n",
      "  File \"c:\\users\\manuelsousa\\appdata\\local\\programs\\python\\python37\\lib\\site-packages\\pandas\\io\\parsers\\c_parser_wrapper.py\", line 69, in __init__\n",
      "    self._reader = parsers.TextReader(self.handles.handle, **kwds)\n",
      "  File \"pandas\\_libs\\parsers.pyx\", line 542, in pandas._libs.parsers.TextReader.__cinit__\n",
      "  File \"pandas\\_libs\\parsers.pyx\", line 642, in pandas._libs.parsers.TextReader._get_header\n",
      "  File \"pandas\\_libs\\parsers.pyx\", line 843, in pandas._libs.parsers.TextReader._tokenize_rows\n",
      "  File \"pandas\\_libs\\parsers.pyx\", line 1917, in pandas._libs.parsers.raise_parser_error\n",
      "UnicodeDecodeError: 'utf-8' codec can't decode bytes in position 15-16: invalid continuation byte\n"
     ]
    }
   ],
   "source": [
    "# warnings.filterwarnings(\"ignore\")\n",
    "# np.random.seed(40)\n",
    "\n",
    "file_path = (\n",
    "    \"./dataset/sample_dataset.xlsx\"\n",
    ")\n",
    "try:\n",
    "    df = pd.read_csv(file_path)\n",
    "except Exception as e:\n",
    "    logger.exception(\n",
    "        \"Unable to read dataset XLSX, check your internet connection. Error: %s\", e\n",
    "    )"
   ]
  },
  {
   "cell_type": "code",
   "execution_count": 13,
   "id": "5d1c38ba",
   "metadata": {},
   "outputs": [
    {
     "ename": "NameError",
     "evalue": "name 'df' is not defined",
     "output_type": "error",
     "traceback": [
      "\u001b[1;31m---------------------------------------------------------------------------\u001b[0m",
      "\u001b[1;31mNameError\u001b[0m                                 Traceback (most recent call last)",
      "\u001b[1;32m~\\AppData\\Local\\Temp\\ipykernel_16408\\1396537375.py\u001b[0m in \u001b[0;36m<module>\u001b[1;34m\u001b[0m\n\u001b[1;32m----> 1\u001b[1;33m \u001b[0mdf\u001b[0m\u001b[1;33m\u001b[0m\u001b[1;33m\u001b[0m\u001b[0m\n\u001b[0m",
      "\u001b[1;31mNameError\u001b[0m: name 'df' is not defined"
     ]
    }
   ],
   "source": [
    "df"
   ]
  },
  {
   "cell_type": "code",
   "execution_count": null,
   "id": "fb1d7d22",
   "metadata": {},
   "outputs": [],
   "source": []
  },
  {
   "cell_type": "code",
   "execution_count": null,
   "id": "d868633c",
   "metadata": {},
   "outputs": [],
   "source": []
  },
  {
   "cell_type": "code",
   "execution_count": 1,
   "id": "dff6b297",
   "metadata": {},
   "outputs": [
    {
     "name": "stdout",
     "output_type": "stream",
     "text": [
      "Score: 0.6666666666666666\n",
      "Model saved in run fa0919cfe16f4be5a4c13a01ccf8d961\n"
     ]
    }
   ],
   "source": [
    "import numpy as np\n",
    "from sklearn.linear_model import LogisticRegression\n",
    "\n",
    "import mlflow\n",
    "import mlflow.sklearn\n",
    "\n",
    "if __name__ == \"__main__\":\n",
    "    X = np.array([-2, -1, 0, 1, 2, 1]).reshape(-1, 1)\n",
    "    y = np.array([0, 0, 1, 1, 1, 0])\n",
    "    lr = LogisticRegression()\n",
    "    lr.fit(X, y)\n",
    "    score = lr.score(X, y)\n",
    "    print(\"Score: %s\" % score)\n",
    "    mlflow.log_metric(\"score\", score)\n",
    "    mlflow.sklearn.log_model(lr, \"model\")\n",
    "    print(\"Model saved in run %s\" % mlflow.active_run().info.run_uuid)"
   ]
  },
  {
   "cell_type": "code",
   "execution_count": null,
   "id": "86f36285",
   "metadata": {},
   "outputs": [],
   "source": []
  },
  {
   "cell_type": "code",
   "execution_count": null,
   "id": "7fdb37b3",
   "metadata": {},
   "outputs": [],
   "source": []
  },
  {
   "cell_type": "code",
   "execution_count": null,
   "id": "2f3608d3",
   "metadata": {},
   "outputs": [],
   "source": []
  },
  {
   "cell_type": "code",
   "execution_count": null,
   "id": "d0686e3e",
   "metadata": {},
   "outputs": [],
   "source": []
  },
  {
   "cell_type": "code",
   "execution_count": null,
   "id": "1b438349",
   "metadata": {},
   "outputs": [],
   "source": []
  },
  {
   "cell_type": "code",
   "execution_count": null,
   "id": "d47775ed",
   "metadata": {},
   "outputs": [],
   "source": []
  },
  {
   "cell_type": "code",
   "execution_count": null,
   "id": "f2da4c49",
   "metadata": {},
   "outputs": [],
   "source": []
  },
  {
   "cell_type": "code",
   "execution_count": null,
   "id": "0045375e",
   "metadata": {},
   "outputs": [],
   "source": []
  },
  {
   "cell_type": "code",
   "execution_count": null,
   "id": "d9d18d04",
   "metadata": {},
   "outputs": [],
   "source": []
  },
  {
   "cell_type": "code",
   "execution_count": null,
   "id": "5e7d1932",
   "metadata": {},
   "outputs": [],
   "source": []
  },
  {
   "cell_type": "code",
   "execution_count": null,
   "id": "5ca781e7",
   "metadata": {},
   "outputs": [],
   "source": []
  },
  {
   "cell_type": "code",
   "execution_count": null,
   "id": "cab0338d",
   "metadata": {},
   "outputs": [],
   "source": []
  },
  {
   "cell_type": "code",
   "execution_count": null,
   "id": "c435d52a",
   "metadata": {},
   "outputs": [],
   "source": []
  },
  {
   "cell_type": "code",
   "execution_count": null,
   "id": "3c221b4e",
   "metadata": {},
   "outputs": [],
   "source": []
  },
  {
   "cell_type": "code",
   "execution_count": null,
   "id": "dfa1babd",
   "metadata": {},
   "outputs": [],
   "source": []
  },
  {
   "cell_type": "code",
   "execution_count": null,
   "id": "b71e6ed9",
   "metadata": {},
   "outputs": [],
   "source": []
  },
  {
   "cell_type": "code",
   "execution_count": null,
   "id": "54498c5e",
   "metadata": {},
   "outputs": [],
   "source": []
  },
  {
   "cell_type": "code",
   "execution_count": null,
   "id": "3bd313c9",
   "metadata": {},
   "outputs": [],
   "source": []
  }
 ],
 "metadata": {
  "kernelspec": {
   "display_name": "venv",
   "language": "python",
   "name": "venv"
  },
  "language_info": {
   "codemirror_mode": {
    "name": "ipython",
    "version": 3
   },
   "file_extension": ".py",
   "mimetype": "text/x-python",
   "name": "python",
   "nbconvert_exporter": "python",
   "pygments_lexer": "ipython3",
   "version": "3.7.9"
  }
 },
 "nbformat": 4,
 "nbformat_minor": 5
}
